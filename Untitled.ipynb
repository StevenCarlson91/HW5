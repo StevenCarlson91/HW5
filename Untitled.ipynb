{
 "cells": [
  {
   "cell_type": "code",
   "execution_count": 3,
   "id": "8ebddaa1",
   "metadata": {},
   "outputs": [
    {
     "ename": "SyntaxError",
     "evalue": "invalid syntax (<ipython-input-3-81e37d100033>, line 4)",
     "output_type": "error",
     "traceback": [
      "\u001b[1;36m  File \u001b[1;32m\"<ipython-input-3-81e37d100033>\"\u001b[1;36m, line \u001b[1;32m4\u001b[0m\n\u001b[1;33m    f = @(x)objective(x); # replace with your objective function\u001b[0m\n\u001b[1;37m        ^\u001b[0m\n\u001b[1;31mSyntaxError\u001b[0m\u001b[1;31m:\u001b[0m invalid syntax\n"
     ]
    }
   ],
   "source": [
    "# Optimization settings\n",
    "# Here we specify the objective function by giving the function handle to a\n",
    "# variable, for example:\n",
    "f = @(x)objective(x); # replace with your objective function\n",
    "# In the same way, we also provide the gradient of the \n",
    "# objective:\n",
    "df = @(x)objectiveg(x); % replace accordingly\n",
    "\n",
    "g = @(x)constraint(x);\n",
    "dg = @(x)constraintg(x);\n",
    "\n",
    "# Note that explicit gradient and Hessian information is only optional.\n",
    "# However, providing these information to the search algorithm will save\n",
    "# computational cost from finite difference calculations for them.\n",
    "\n",
    "# Specify algorithm\n",
    "opt.alg = 'matlabqp'; % 'myqp' or 'matlabqp'\n",
    "\n",
    "# Turn on or off line search. You could turn on line search once other\n",
    "# parts of the program are debugged.\n",
    "opt.linesearch = true; % false or true\n",
    "\n",
    "# Set the tolerance to be used as a termination criterion:\n",
    "opt.eps = 1e-3;\n",
    "\n",
    "# Set the initial guess:\n",
    "x0 = [1;1];\n",
    "\n",
    "# Feasibility check for the initial point.\n",
    "if max(g(x0)>0)\n",
    "    errordlg('Infeasible intial point! You need to start from a feasible one!');\n",
    "    return\n",
    "end\n",
    "# Run optimization\n",
    "# Run your implementation of SQP algorithm. See mysqp.m\n",
    "solution = mysqp(f, df, g, dg, x0, opt);\n",
    "\n",
    "# Report\n",
    "report(solution,f,g);"
   ]
  },
  {
   "cell_type": "code",
   "execution_count": null,
   "id": "ba86c944",
   "metadata": {},
   "outputs": [],
   "source": []
  }
 ],
 "metadata": {
  "kernelspec": {
   "display_name": "Python 3",
   "language": "python",
   "name": "python3"
  },
  "language_info": {
   "codemirror_mode": {
    "name": "ipython",
    "version": 3
   },
   "file_extension": ".py",
   "mimetype": "text/x-python",
   "name": "python",
   "nbconvert_exporter": "python",
   "pygments_lexer": "ipython3",
   "version": "3.8.8"
  }
 },
 "nbformat": 4,
 "nbformat_minor": 5
}
